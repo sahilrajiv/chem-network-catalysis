{
 "cells": [
  {
   "cell_type": "markdown",
   "metadata": {},
   "source": [
    "# Compound Frequency Analysis \n",
    "This notebook performs the compound level analysis between the catalyst_inclusive and catalyst_lacking networks. We dive into the number of compounds being catalysed, the distribution of compound counts across each generation. We have also included descriptor functions to calculate descriptors for compounds whenever needed."
   ]
  },
  {
   "cell_type": "markdown",
   "metadata": {},
   "source": [
    "## Imports\n",
    "Note: Please install rd-kit environment to import rdkit libarires. You may also have to install mordred."
   ]
  },
  {
   "cell_type": "code",
   "execution_count": 2,
   "metadata": {},
   "outputs": [
    {
     "ename": "ModuleNotFoundError",
     "evalue": "No module named 'rdkit'",
     "output_type": "error",
     "traceback": [
      "\u001b[1;31m---------------------------------------------------------------------------\u001b[0m",
      "\u001b[1;31mModuleNotFoundError\u001b[0m                       Traceback (most recent call last)",
      "\u001b[1;32m<ipython-input-2-735297c9b121>\u001b[0m in \u001b[0;36m<module>\u001b[1;34m\u001b[0m\n\u001b[0;32m      2\u001b[0m \u001b[1;32mimport\u001b[0m \u001b[0mnumpy\u001b[0m \u001b[1;32mas\u001b[0m \u001b[0mnp\u001b[0m\u001b[1;33m\u001b[0m\u001b[1;33m\u001b[0m\u001b[0m\n\u001b[0;32m      3\u001b[0m \u001b[1;33m\u001b[0m\u001b[0m\n\u001b[1;32m----> 4\u001b[1;33m \u001b[1;32mfrom\u001b[0m \u001b[0mrdkit\u001b[0m\u001b[1;33m.\u001b[0m\u001b[0mChem\u001b[0m \u001b[1;32mimport\u001b[0m \u001b[0mDraw\u001b[0m\u001b[1;33m\u001b[0m\u001b[1;33m\u001b[0m\u001b[0m\n\u001b[0m\u001b[0;32m      5\u001b[0m \u001b[1;32mfrom\u001b[0m \u001b[0mrdkit\u001b[0m\u001b[1;33m.\u001b[0m\u001b[0mChem\u001b[0m\u001b[1;33m.\u001b[0m\u001b[0mDraw\u001b[0m \u001b[1;32mimport\u001b[0m \u001b[0mIPythonConsole\u001b[0m\u001b[1;33m\u001b[0m\u001b[1;33m\u001b[0m\u001b[0m\n\u001b[0;32m      6\u001b[0m \u001b[1;32mfrom\u001b[0m \u001b[0mrdkit\u001b[0m \u001b[1;32mimport\u001b[0m \u001b[0mChem\u001b[0m\u001b[1;33m\u001b[0m\u001b[1;33m\u001b[0m\u001b[0m\n",
      "\u001b[1;31mModuleNotFoundError\u001b[0m: No module named 'rdkit'"
     ]
    }
   ],
   "source": [
    "import pandas as pd\n",
    "import numpy as np\n",
    "\n",
    "from rdkit.Chem import Draw\n",
    "from rdkit.Chem.Draw import IPythonConsole\n",
    "from rdkit import Chem\n",
    "\n",
    "from matplotlib import pyplot as plt\n",
    "import seaborn as sns\n",
    "import pandas.plotting\n",
    "\n",
    "from mordred import Calculator, descriptors\n",
    "from IPython.display import display_html\n",
    "from itertools import chain,cycle\n",
    "import seaborn as sns\n",
    "\n",
    "\n",
    "%matplotlib notebook\n",
    "\n",
    "%pprint"
   ]
  },
  {
   "cell_type": "markdown",
   "metadata": {},
   "source": [
    "These functions reduce the time."
   ]
  },
  {
   "cell_type": "code",
   "execution_count": null,
   "metadata": {},
   "outputs": [],
   "source": [
    "def load_data(reaction_name):\n",
    "    '''This loads the reaaction csv data files and returns the old,\n",
    "    new dataframes along with sets containing common and new compounds.'''\n",
    "    old=pd.read_csv(f'{reaction_name}/old/{reaction_name}_output.csv', delimiter='\\t') \n",
    "    new=pd.read_csv(f'{reaction_name}/new/{reaction_name}_output.csv', delimiter='\\t')\n",
    "    \n",
    "    old_unique=set(old.loc[:,'ID'].values.tolist())\n",
    "    new_unique=set(new.loc[:,'ID'].values.tolist())\n",
    "\n",
    "    only_old=old_unique-new_unique #Set Difference Old - New\n",
    "    only_new=new_unique-old_unique\n",
    "    \n",
    "    return [old, new,only_old, only_new]\n",
    "\n",
    "\n",
    "def split_gens(dataframe):\n",
    "    '''Split a single output dataframe into individual dataframes as per their generation.'''\n",
    "    no_of_gens=dataframe.iloc[-1][0]\n",
    "    gen_list=[]\n",
    "    for g in range(no_of_gens+1):\n",
    "        gen_list.append(dataframe.loc[dataframe['Gen']==g,:])\n",
    "    return gen_list\n",
    "\n",
    "def compare_for_shorter_path(old, new):\n",
    "    'Compare the old dataset and the new one to find the compounds that are formed in an early generation'\n",
    "    merged=pd.merge(old, new, on='ID', indicator='Common or not')\n",
    "    merged=merged.loc[merged['Gen_x']>merged['Gen_y'], :]\n",
    "    return merged\n",
    "\n",
    "\n",
    "\n",
    "def compare_for_shorter_path_2(old, new):\n",
    "    'Compare the old dataset and the new one to find the compounds that are formed in two early generation'\n",
    "    merged=pd.merge(old, new, on='ID', indicator='Common or not')\n",
    "    merged=merged.loc[merged['Gen_x']>merged['Gen_y']+1, :]\n",
    "    return merged\n",
    "\n",
    "\n",
    "def visualiser(dataframe):\n",
    "    'visualises a molecule dataframe using rdkit'\n",
    "    l_mol=[]\n",
    "    for x in dataframe['ID']:\n",
    "        l_mol.append(Chem.MolFromSmiles(x))\n",
    "    return l_mol\n",
    "\n",
    "\n",
    "def plotter(name, df_list):\n",
    "    '''plots the generationwise compound count'''\n",
    "    bars1=df_list[0].groupby('Gen').size().values.tolist()\n",
    "    bars2=df_list[1].groupby('Gen').size().values.tolist()\n",
    "\n",
    "    barWidth=0.4\n",
    "    fig, ax = plt.subplots()\n",
    "\n",
    "    r1=np.arange(len(bars1))\n",
    "\n",
    "    x=ax.bar(r1-barWidth/2, bars1, color='blue', width=barWidth, edgecolor='white', label='Non-Iron Network')\n",
    "    y=ax.bar(r1+barWidth/2, bars2, color='red', width=barWidth, edgecolor='white', label='Iron Network')\n",
    "\n",
    "    def insert_data_labels(bars):\n",
    "        for bar in bars:\n",
    "            bar_height = bar.get_height()\n",
    "            ax.annotate('{0:.0f}'.format(bar.get_height()),\n",
    "                xy=(bar.get_x() + bar.get_width() / 2, bar_height),\n",
    "                xytext=(5, 4),\n",
    "                textcoords='offset points',\n",
    "                ha='center',\n",
    "                va='bottom'\n",
    "            )\n",
    "\n",
    "\n",
    "\n",
    "\n",
    "    insert_data_labels(x)\n",
    "    insert_data_labels(y)\n",
    "    plt.xlabel('Generations', fontweight='bold')\n",
    "    plt.ylabel('Product Count', fontweight='bold')\n",
    "\n",
    "    plt.title(f'{name} Reaction Network | Product Distribution by Generation')\n",
    "\n",
    "    plt.savefig(\"proddist.png\", format=\"png\",transparent=True, dpi=300)\n",
    "\n",
    "    plt.legend()\n",
    "    plt.show()\n",
    "\n",
    "def print_stats(name, df_list):\n",
    "    print(f\"{name} stats \\n\")\n",
    "    print(f'No of compounds without Iron : '+str(len(df_list[0])))\n",
    "    print(f'No of compounds with Iron : '+str(len(df_list[1])))\n",
    "    print(\"   \")\n",
    "    print(f'Compounds present in the Without Iron Network only: '+str(len(df_list[-2])))\n",
    "    print(f'Compounds present in the With Iron Network only: '+str(len(df_list[-1])))\n",
    "    print(\"   \")\n",
    "    print(f'Total No of compounds being catalysed: '+str(len(compare_for_shorter_path(df_list[0], df_list[1]))))\n",
    "    print(f'Percent of Original Dataset being catalysed : '+str(len(compare_for_shorter_path(df_list[0], df_list[1]))*100/len(df_list[0]))+\" %\")\n",
    "    print(\"   \")\n",
    "    print(f'No of compounds being catalysed by two generations: '+str(len(compare_for_shorter_path_2(df_list[0], df_list[1]))))\n",
    "\n",
    "    \n",
    "def calc_no_of_each_atoms(df):\n",
    "    '''Calculates the descriptors for each compound of a dataframe, and returns a new dataframe.\n",
    "        List of descriptor to add can be found here.\n",
    "        https://mordred-descriptor.github.io/documentation/master/descriptors.html'''\n",
    "    \n",
    "    desc_needed = [ 'nN', 'nH', 'nC', 'nO','MW','nAcid','nBase','nHBAcc','nHBDon']\n",
    "    calc = Calculator(descriptors, ignore_3D=False)\n",
    "    calc.descriptors = [d for d in calc.descriptors if str(d) in desc_needed]\n",
    "    mols = [Chem.MolFromSmiles(smi) for smi in df.ID.values.tolist()]\n",
    "    calc_df=calc.pandas(mols)\n",
    "    \n",
    "    df['nC']=calc_df['nC']\n",
    "    df['nH']=calc_df['nH']\n",
    "    df['nO']=calc_df['nO']\n",
    "    df['MW']=calc_df['MW']\n",
    "    df['nAcid']=calc_df['nAcid']\n",
    "    df['nBase']=calc_df['nBase']\n",
    "    df['nHBAcc']=calc_df['nHBAcc']\n",
    "    df['nHBDon']=calc_df['nHBDon']\n",
    "    \n",
    "    return df\n",
    "\n",
    "def dist_atoms_gen(dflist,atom_type):\n",
    "    '''calculates number of atoms in a molecule and returns condensed pivot dataframes.'''\n",
    "    old_atoms=calc_no_of_each_atoms(dflist[0])\n",
    "    new_atoms=calc_no_of_each_atoms(dflist[1])\n",
    "    \n",
    "    data_old=old_atoms.groupby(['Gen',atom_type]).size().unstack().fillna('-')\n",
    "    data_new=new_atoms.groupby(['Gen',atom_type]).size().unstack().fillna('-')\n",
    "    \n",
    "    return [data_old,data_new]\n",
    "\n",
    "\n",
    "\n",
    "def display_side_by_side(*args,titles=cycle([''])):\n",
    "    '''displays molecules nicely in html'''\n",
    "    html_str=''\n",
    "    for df,title in zip(args, chain(titles,cycle(['</br>'])) ):\n",
    "        html_str+='<th style=\"text-align:center\"><td style=\"vertical-align:top\">'\n",
    "        html_str+=f'<h2>{title}</h2>'\n",
    "        html_str+=df.to_html().replace('table','table style=\"display:inline\"')\n",
    "        html_str+='</td></th>'\n",
    "    display_html(html_str,raw=True)"
   ]
  },
  {
   "cell_type": "markdown",
   "metadata": {},
   "source": [
    "# Formose Reaction Network"
   ]
  },
  {
   "cell_type": "code",
   "execution_count": null,
   "metadata": {
    "scrolled": false
   },
   "outputs": [],
   "source": [
    "formose_data=load_data('formose')   # returns [withoutiron_df, withiron_df, Set_only_without_iron_comp, Set_only_iron_comp]\n",
    "plotter('formose',formose_data)\n",
    "print_stats('formose', formose_data)\n"
   ]
  },
  {
   "cell_type": "code",
   "execution_count": null,
   "metadata": {},
   "outputs": [],
   "source": [
    "pyruvic_data=load_data('pyruvic')   # returns [withoutiron_df, withiron_df, Set_only_without_iron_comp, Set_only_iron_comp]\n",
    "plotter('pyruvic',pyruvic_data)\n",
    "print_stats('pyruvic', pyruvic_data)"
   ]
  },
  {
   "cell_type": "code",
   "execution_count": null,
   "metadata": {},
   "outputs": [],
   "source": [
    "glucose_data=load_data('glucose')   # returns [withoutiron_df, withiron_df, Set_only_without_iron_comp, Set_only_iron_comp]\n",
    "plotter('glucose',glucose_data)\n",
    "print_stats('glucose', glucose_data)"
   ]
  },
  {
   "cell_type": "code",
   "execution_count": null,
   "metadata": {},
   "outputs": [],
   "source": [
    "maillard=load_data('maillard')   # returns [withoutiron_df, withiron_df, Set_only_without_iron_comp, Set_only_iron_comp]\n",
    "plotter('maillard',maillard)\n",
    "print_stats('maillard', maillard)\n"
   ]
  },
  {
   "cell_type": "markdown",
   "metadata": {},
   "source": [
    "# Calculating descriptors"
   ]
  },
  {
   "cell_type": "code",
   "execution_count": null,
   "metadata": {},
   "outputs": [],
   "source": [
    "list_rxns=[formose_data, pyruvic_data, glucose_data, maillard]\n",
    "\n",
    "list_compounds=[]\n",
    "\n",
    "for x in list_rxns:\n",
    "    for y in range(0,2):\n",
    "        list_compounds.append(calc_no_of_each_atoms(x[y]))"
   ]
  },
  {
   "cell_type": "code",
   "execution_count": null,
   "metadata": {},
   "outputs": [],
   "source": [
    "i=0\n",
    "for x in list_rxns:\n",
    "    i=i+1\n",
    "    for y in range(0,2):\n",
    "        x[y].to_csv(f'descriptor/compound{i}_{y}.csv')"
   ]
  },
  {
   "cell_type": "markdown",
   "metadata": {},
   "source": [
    "# Help Section"
   ]
  },
  {
   "cell_type": "code",
   "execution_count": null,
   "metadata": {},
   "outputs": [],
   "source": [
    "molecules=visualiser(compare_for_shorter_path_2(formose_data[0], formose_data[1]))\n",
    "top_ten=[molecules[x] for x in range(0,4)]\n",
    "Draw.MolsToGridImage(top_ten, subImgSize=(250,200))"
   ]
  },
  {
   "cell_type": "markdown",
   "metadata": {},
   "source": [
    "# Distribution"
   ]
  },
  {
   "cell_type": "code",
   "execution_count": null,
   "metadata": {},
   "outputs": [],
   "source": [
    "m=dist_atoms_gen(formose_data,'nC')"
   ]
  },
  {
   "cell_type": "code",
   "execution_count": null,
   "metadata": {},
   "outputs": [],
   "source": [
    "display_side_by_side(m[0],m[1], titles=['Without Iron','With Iron'])"
   ]
  }
 ],
 "metadata": {
  "kernelspec": {
   "display_name": "Python 3",
   "language": "python",
   "name": "python3"
  },
  "language_info": {
   "codemirror_mode": {
    "name": "ipython",
    "version": 3
   },
   "file_extension": ".py",
   "mimetype": "text/x-python",
   "name": "python",
   "nbconvert_exporter": "python",
   "pygments_lexer": "ipython3",
   "version": "3.8.3"
  }
 },
 "nbformat": 4,
 "nbformat_minor": 4
}
