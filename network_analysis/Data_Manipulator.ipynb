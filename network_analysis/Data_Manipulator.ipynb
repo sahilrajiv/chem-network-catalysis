{
 "cells": [
  {
   "cell_type": "markdown",
   "metadata": {},
   "source": [
    "# Gephi Data Preperation\n",
    "\n",
    "This notebook should be run to clean the MOD output data.csv files before we feed it into Gephi for network visualisation and graph metrics calculations."
   ]
  },
  {
   "cell_type": "markdown",
   "metadata": {},
   "source": [
    "## Imports"
   ]
  },
  {
   "cell_type": "code",
   "execution_count": 1,
   "metadata": {},
   "outputs": [],
   "source": [
    "import pandas as pd\n",
    "import numpy as np\n",
    "from collections import defaultdict\n",
    "from matplotlib import pyplot as plt\n",
    "%matplotlib notebook\n",
    "import seaborn as sns\n",
    "from IPython.display import display\n",
    "# %pprint"
   ]
  },
  {
   "cell_type": "code",
   "execution_count": 8,
   "metadata": {},
   "outputs": [],
   "source": [
    "def load_data(reaction_name):\n",
    "    '''This loads the data csv data files'''\n",
    "    old=pd.read_csv(f'{reaction_name}/old/data.csv', delimiter='\\t') \n",
    "    new=pd.read_csv(f'{reaction_name}/new/data.csv', delimiter='\\t')  \n",
    "    return [old, new]\n",
    "\n",
    "def graph_format(data):\n",
    "    reactants=data.loc[data['R or P']==-1]\n",
    "    products=data.loc[data['R or P']==1]\n",
    "    reactants.columns=[ 'Target','Source', 'R or P', 'Reaction Name', 'Mass']\n",
    "    graph_data=pd.concat([products,reactants])\n",
    "    \n",
    "    return graph_data\n",
    "\n",
    "def graph_dataset(name):\n",
    "    graph_data=[]\n",
    "    rxn_data=load_data(name)\n",
    "    \n",
    "    for x in rxn_data:\n",
    "        graph_data.append(graph_format(x))\n",
    "    i=0   \n",
    "    for x in graph_data:\n",
    "        i=i+1\n",
    "        x.to_csv(f'gephi_plots/{name}_{i}.csv',index= False)\n",
    "    return graph_data\n",
    "    "
   ]
  },
  {
   "cell_type": "code",
   "execution_count": 9,
   "metadata": {},
   "outputs": [],
   "source": [
    "formose=graph_dataset('formose')\n",
    "pyruvic=graph_dataset('pyruvic')\n",
    "glucose=graph_dataset('glucose')\n",
    "maillard=graph_dataset('maillard')"
   ]
  }
 ],
 "metadata": {
  "kernelspec": {
   "display_name": "Python 3",
   "language": "python",
   "name": "python3"
  },
  "language_info": {
   "codemirror_mode": {
    "name": "ipython",
    "version": 3
   },
   "file_extension": ".py",
   "mimetype": "text/x-python",
   "name": "python",
   "nbconvert_exporter": "python",
   "pygments_lexer": "ipython3",
   "version": "3.8.3"
  }
 },
 "nbformat": 4,
 "nbformat_minor": 5
}
